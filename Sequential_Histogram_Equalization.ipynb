{
  "cells": [
    {
      "cell_type": "code",
      "execution_count": null,
      "metadata": {
        "id": "iRN98T-7niT2"
      },
      "outputs": [],
      "source": [
        "import numpy as np\n",
        "import cv2\n",
        "from matplotlib import pyplot as plt\n",
        "import time"
      ]
    },
    {
      "cell_type": "code",
      "execution_count": null,
      "metadata": {
        "id": "46V4BkfthSvw"
      },
      "outputs": [],
      "source": [
        "start_time = time.time()"
      ]
    },
    {
      "cell_type": "markdown",
      "metadata": {
        "id": "QC2iVMx_nzhV"
      },
      "source": [
        "#Read the image"
      ]
    },
    {
      "cell_type": "code",
      "execution_count": null,
      "metadata": {
        "id": "p74BMMz4nrdw"
      },
      "outputs": [],
      "source": [
        "img = cv2.imread('Lara.jpeg')"
      ]
    },
    {
      "cell_type": "markdown",
      "metadata": {
        "id": "BTxrbeyJoB7-"
      },
      "source": [
        "#Convert the image to grayscale"
      ]
    },
    {
      "cell_type": "code",
      "execution_count": null,
      "metadata": {
        "id": "ureZLprgoFI5"
      },
      "outputs": [],
      "source": [
        "original_img = cv2.cvtColor(img, cv2.COLOR_BGR2GRAY)"
      ]
    },
    {
      "attachments": {},
      "cell_type": "markdown",
      "metadata": {
        "id": "NqiPSQF8oInk"
      },
      "source": [
        "#Get the dimensions of the image (Row , Column)"
      ]
    },
    {
      "cell_type": "code",
      "execution_count": null,
      "metadata": {
        "id": "2EiDdTVsoLm9"
      },
      "outputs": [],
      "source": [
        "r, c = original_img.shape"
      ]
    },
    {
      "cell_type": "markdown",
      "metadata": {
        "id": "aDuNVfDloOyD"
      },
      "source": [
        "#Initialize histogram array with zeros"
      ]
    },
    {
      "cell_type": "code",
      "execution_count": null,
      "metadata": {
        "id": "vFWE-uR_oRfl"
      },
      "outputs": [],
      "source": [
        "histogram = np.zeros((256,), dtype=int)"
      ]
    },
    {
      "cell_type": "markdown",
      "metadata": {
        "id": "egF719BToUn-"
      },
      "source": [
        "#Form the histogram\n"
      ]
    },
    {
      "cell_type": "code",
      "execution_count": null,
      "metadata": {
        "id": "cqR1fc-MoXU-"
      },
      "outputs": [],
      "source": [
        "for i in range(r):\n",
        "  for j in range(c):\n",
        "    z = original_img[i, j]\n",
        "    histogram[z] += 1"
      ]
    },
    {
      "cell_type": "markdown",
      "metadata": {
        "id": "1pWo2o5rojgs"
      },
      "source": [
        "#Normalize the histogram"
      ]
    },
    {
      "cell_type": "code",
      "execution_count": null,
      "metadata": {
        "id": "mE-l0qgDooU3"
      },
      "outputs": [],
      "source": [
        "histogram = histogram / (r * c)"
      ]
    },
    {
      "cell_type": "markdown",
      "metadata": {
        "id": "b8NFC_BYomEe"
      },
      "source": [
        "#Compute the transfer function"
      ]
    },
    {
      "cell_type": "code",
      "execution_count": null,
      "metadata": {
        "id": "hM5xKYW4otyr"
      },
      "outputs": [],
      "source": [
        "transfer_function = np.zeros((256,), dtype=float)\n",
        "sum = 0\n",
        "for i in range(len(histogram)):\n",
        "  a = histogram[i]\n",
        "  if i == 0:\n",
        "    sum = a\n",
        "  else:\n",
        "    j = i - 1\n",
        "  b = transfer_function[j]\n",
        "  sum = a + b\n",
        "  transfer_function[i] = sum"
      ]
    },
    {
      "cell_type": "markdown",
      "metadata": {
        "id": "ISATXn1_pAzM"
      },
      "source": [
        "#Compute the histogram equalized image"
      ]
    },
    {
      "cell_type": "code",
      "execution_count": null,
      "metadata": {
        "id": "VOaQecFHpAcb"
      },
      "outputs": [],
      "source": [
        "histo_image = transfer_function * 255\n",
        "equalized_img = np.zeros((r, c), dtype=int)\n",
        "for i in range(r):\n",
        "  for j in range(c): \n",
        "    equalized_img[i, j] = histo_image[original_img[i, j]]"
      ]
    },
    {
      "cell_type": "markdown",
      "metadata": {
        "id": "dxJ510JTpHJo"
      },
      "source": [
        "#Compute the histogram of the equalized image"
      ]
    },
    {
      "cell_type": "code",
      "execution_count": null,
      "metadata": {
        "id": "eA-aCC_DpIN5"
      },
      "outputs": [],
      "source": [
        "equalized_histogram = np.zeros((256,), dtype=int)\n",
        "for i in range(r):\n",
        "  for j in range(c):\n",
        "    z = equalized_img[i, j]\n",
        "    equalized_histogram[z] += 1"
      ]
    },
    {
      "cell_type": "code",
      "execution_count": null,
      "metadata": {
        "id": "XetFJBH2hZa5"
      },
      "outputs": [],
      "source": [
        "end_time = time.time()"
      ]
    },
    {
      "cell_type": "code",
      "execution_count": null,
      "metadata": {
        "colab": {
          "base_uri": "https://localhost:8080/"
        },
        "id": "mTRlO8hxhko6",
        "outputId": "343e6c93-4c4d-4550-e2ca-cc2c2eaa5a1f"
      },
      "outputs": [],
      "source": [
        "print(\"Time taken by the Sequential Histogram Equalization code: \",  end_time - start_time, \"seconds\")"
      ]
    },
    {
      "cell_type": "markdown",
      "metadata": {
        "id": "R-XpZqn_pPQg"
      },
      "source": [
        "#Plot the results"
      ]
    },
    {
      "cell_type": "code",
      "execution_count": null,
      "metadata": {
        "colab": {
          "base_uri": "https://localhost:8080/",
          "height": 281
        },
        "id": "wCgwZgHCpQpU",
        "outputId": "878e0c63-94de-4908-901a-2d50ac1910dc"
      },
      "outputs": [],
      "source": [
        "plt.subplot(2, 2, 1)\n",
        "plt.imshow(original_img, cmap='gray')\n",
        "plt.title('Original Image')\n",
        "\n",
        "plt.subplot(2, 2, 2)\n",
        "plt.stem(histogram)\n",
        "plt.title('Histogram of Original Image')\n",
        "\n",
        "plt.subplot(2, 2, 3)\n",
        "plt.imshow(equalized_img, cmap='gray')\n",
        "plt.title('Equalized Image')\n",
        "\n",
        "plt.subplot(2, 2, 4)\n",
        "plt.stem(equalized_histogram)\n",
        "plt.title('Equalized Histogram')\n",
        "\n",
        "plt.show()"
      ]
    }
  ],
  "metadata": {
    "colab": {
      "provenance": []
    },
    "gpuClass": "standard",
    "kernelspec": {
      "display_name": "Python 3",
      "name": "python3"
    },
    "language_info": {
      "codemirror_mode": {
        "name": "ipython",
        "version": 3
      },
      "file_extension": ".py",
      "mimetype": "text/x-python",
      "name": "python",
      "nbconvert_exporter": "python",
      "pygments_lexer": "ipython3",
      "version": "3.10.3"
    }
  },
  "nbformat": 4,
  "nbformat_minor": 0
}
