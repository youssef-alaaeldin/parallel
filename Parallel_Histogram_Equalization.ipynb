{
  "cells": [
    {
      "cell_type": "code",
      "execution_count": 1,
      "metadata": {},
      "outputs": [],
      "source": [
        "import numpy as np\n",
        "import cv2\n",
        "from matplotlib import pyplot as plt\n",
        "from multiprocessing import Pool, cpu_count\n",
        "import time"
      ]
    },
    {
      "cell_type": "code",
      "execution_count": 2,
      "metadata": {},
      "outputs": [],
      "source": [
        "def histogram_equalization(img_chunk):\n",
        "    original_img = cv2.cvtColor(img_chunk, cv2.COLOR_BGR2GRAY)\n",
        "    r, c = original_img.shape\n",
        "    histogram = np.zeros((256,), dtype=int)\n",
        "\n",
        "    for i in range(r):\n",
        "        for j in range(c):\n",
        "            z = original_img[i, j]\n",
        "            histogram[z] += 1\n",
        "\n",
        "    histogram = histogram / (r * c)\n",
        "\n",
        "    transfer_function = np.zeros((256,), dtype=float)\n",
        "    sum = 0\n",
        "    for i in range(len(histogram)):\n",
        "        a = histogram[i]\n",
        "        if i == 0:\n",
        "            sum = a\n",
        "        else:\n",
        "            j = i - 1\n",
        "            b = transfer_function[j]\n",
        "            sum = a + b\n",
        "        transfer_function[i] = sum\n",
        "\n",
        "    histo_image = transfer_function * 255\n",
        "    equalized_img = np.zeros((r, c), dtype=int)\n",
        "    for i in range(r):\n",
        "        for j in range(c):\n",
        "            equalized_img[i, j] = histo_image[original_img[i, j]]\n",
        "\n",
        "    equalized_histogram = np.zeros((256,), dtype=int)\n",
        "    for i in range(r):\n",
        "        for j in range(c):\n",
        "            z = equalized_img[i, j]\n",
        "            equalized_histogram[z] += 1\n",
        "\n",
        "    return equalized_img, histogram, equalized_histogram\n",
        "\n"
      ]
    },
    {
      "cell_type": "code",
      "execution_count": 3,
      "metadata": {
        "colab": {
          "base_uri": "https://localhost:8080/",
          "height": 298
        },
        "id": "MLwi_s2fUjBt",
        "outputId": "eb2269f2-c55f-46c9-f0c9-bbb6c72aee3a"
      },
      "outputs": [],
      "source": [
        "\n",
        "if __name__ == '__main__':\n",
        "    start_time = time.time()\n",
        "    img = cv2.imread('Lara.jpeg')\n",
        "    num_cores = cpu_count()\n",
        "    rows_per_chunk = img.shape[0] // num_cores\n",
        "    img_chunks = [img[i:i+rows_per_chunk] for i in range(0, img.shape[0], rows_per_chunk)]\n",
        "    #send chunks to cores to work on \n",
        "    with Pool(num_cores) as p:\n",
        "        results = p.map(histogram_equalization, img_chunks)\n",
        "\n",
        "    equalized_imgs = []\n",
        "    histograms = []\n",
        "    equalized_histograms = []\n",
        "    for result in results:\n",
        "        equalized_imgs.append(result[0])\n",
        "        histograms.append(result[1])\n",
        "        equalized_histograms.append(result[2])\n",
        "\n",
        "    equalized_img = np.concatenate(equalized_imgs)\n",
        "    histogram = np.concatenate(histograms)\n",
        "    equalized_histogram = np.concatenate(equalized_histograms)\n",
        "\n",
        "    end_time = time.time()\n",
        "    print(\"Time taken by the Parallel Histogram Equalization code: \",  end_time - start_time, \"seconds\")\n",
        "    plt.subplot(2, 2, 1)\n",
        "    plt.imshow(cv2.cvtColor(img, cv2.COLOR_BGR2RGB))\n",
        "    plt.title('Original Image')\n",
        "\n",
        "    plt.subplot(2, 2, 2)\n",
        "    plt.plot(histogram)\n",
        "    plt.title('Histogram of Original Image')\n",
        "\n",
        "    plt.subplot(2, 2, 3)\n",
        "    plt.imshow(equalized_img, cmap='gray')\n",
        "    plt.title('Equalized Image')\n",
        "\n",
        "    plt.subplot(2, 2, 4)\n",
        "    plt.plot(equalized_histogram)\n",
        "    plt.title('Equalized Histogram')\n",
        "\n",
        "    plt.show()"
      ]
    }
  ],
  "metadata": {
    "accelerator": "GPU",
    "colab": {
      "provenance": []
    },
    "gpuClass": "standard",
    "kernelspec": {
      "display_name": "Python 3",
      "name": "python3"
    },
    "language_info": {
      "codemirror_mode": {
        "name": "ipython",
        "version": 3
      },
      "file_extension": ".py",
      "mimetype": "text/x-python",
      "name": "python",
      "nbconvert_exporter": "python",
      "pygments_lexer": "ipython3",
      "version": "3.10.3"
    }
  },
  "nbformat": 4,
  "nbformat_minor": 0
}
